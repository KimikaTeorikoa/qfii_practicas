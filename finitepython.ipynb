{
 "cells": [
  {
   "cell_type": "markdown",
   "metadata": {},
   "source": [
    "# Resolviendo la ecuación de Schrödinger con Python \n",
    "El siguiente paso es convertir el método de diferencias finitas \n",
    "en código. Lo primero que tenemos que hacer es ser capaces de \n",
    "escribir un vector con nuestras posiciones en $x$. Para ello, tenemos\n",
    "que importar la librería `numpy` que nos permite manejar vectores \n",
    "en Python."
   ]
  },
  {
   "cell_type": "code",
   "execution_count": null,
   "metadata": {},
   "outputs": [],
   "source": [
    "import numpy as np"
   ]
  },
  {
   "cell_type": "markdown",
   "metadata": {},
   "source": [
    "## Partícula en una caja \n",
    "Una vez importada la librería, una sintáxis sencilla nos permite \n",
    "generar un número de posiciones entre un valor inicial y un valor final.\n",
    "En primer lugar, trabajaremos con la **partícula en una caja** y la \n",
    "definiremos entre 0 y $L=1$."
   ]
  },
  {
   "cell_type": "code",
   "execution_count": null,
   "metadata": {},
   "outputs": [],
   "source": [
    "L = 1\n",
    "steps = 2000\n",
    "xvec = np.linspace(0, L, steps)\n",
    "h = xvec[1] - xvec[0]"
   ]
  },
  {
   "cell_type": "markdown",
   "metadata": {},
   "source": [
    "Por conveniencia, en nuestro programa definiremos una serie de valores numéricos como la unidad,\n",
    "para así no tener que preocuparnos por ellos en lo que sigue."
   ]
  },
  {
   "cell_type": "code",
   "execution_count": null,
   "metadata": {},
   "outputs": [],
   "source": [
    "hbar = 1.0\n",
    "m = 1.0"
   ]
  },
  {
   "cell_type": "markdown",
   "metadata": {},
   "source": [
    "Con estos ingredientes, ya podemos empezar a dar forma a nuestra versión matricial de la Laplaciana"
   ]
  },
  {
   "cell_type": "code",
   "execution_count": null,
   "metadata": {},
   "outputs": [],
   "source": [
    "# create Laplacian via 3 point finite-difference method\n",
    "Laplacian = (-2.0*np.diag(np.ones(steps)) + \\\n",
    "             np.diag(np.ones(steps-1),1) + \\\n",
    "             np.diag(np.ones(steps-1),-1))/(float)(h**2)"
   ]
  },
  {
   "cell_type": "markdown",
   "metadata": {},
   "source": [
    "Para tener el Hamiltoniano completo en un caso tan sencillo como este no nos hace falta nada másq\n",
    "que multiplicar la Laplaciana por $-\\hbar^2/2m$."
   ]
  },
  {
   "cell_type": "code",
   "execution_count": null,
   "metadata": {},
   "outputs": [],
   "source": [
    "Hamiltonian = ((-0.5*(hbar**2)/m))*Laplacian"
   ]
  },
  {
   "cell_type": "markdown",
   "metadata": {},
   "source": [
    "Ya sólo nos queda obtener los vectores propios y valores propios del Hamiltniano. Para ello usamos una nueva librería, `scipy`.\n",
    "Usándola podemos realizar la operación deseada y examinar los resultados."
   ]
  },
  {
   "cell_type": "code",
   "execution_count": null,
   "metadata": {},
   "outputs": [],
   "source": [
    "from scipy.linalg import eigh\n",
    "\n",
    "def diagonalize_hamiltonian(Hamiltonian):\n",
    "    return eigh(Hamiltonian)\n",
    "\n",
    "evals, evecs = diagonalize_hamiltonian(Hamiltonian)"
   ]
  },
  {
   "cell_type": "code",
   "execution_count": null,
   "metadata": {},
   "outputs": [],
   "source": [
    "print (\" Valores más bajos para la energía:\")\n",
    "for i in range(6):\n",
    "    print ('E(%g) = %.2f'%(i+1, evals[i]))"
   ]
  },
  {
   "cell_type": "markdown",
   "metadata": {},
   "source": [
    "A continuación, podemos usar la librería `matplotlib` para representar gráficamente los resultados. "
   ]
  },
  {
   "cell_type": "code",
   "execution_count": null,
   "metadata": {},
   "outputs": [],
   "source": [
    "import matplotlib.pyplot as plt\n",
    "\n",
    "fig, ax = plt.subplots(figsize=(6,8))\n",
    "for i, v in enumerate(evecs.transpose()[:6]):\n",
    "    #V_new, ScaleFactor = infinite_well_plot_scaling(E,V,xvec,W)\n",
    "    color=mpl.cm.jet_r((i)/(float)(n-1),1)\n",
    "    ax.plot(xvec, v*2e2+ evals[i], c=color)\n",
    "    ax.axhline(evals[i], c=color, ls='--')\n",
    "ax.set_xlim(xvec[0], xvec[-1])\n",
    "ax.set_xlabel('L', fontsize=14)\n",
    "# set y label\n",
    "ax.set_ylabel('Energy / (a.u.)', fontsize=14)\n",
    "plt.show()"
   ]
  },
  {
   "cell_type": "code",
   "execution_count": null,
   "metadata": {},
   "outputs": [],
   "source": []
  }
 ],
 "metadata": {
  "kernelspec": {
   "display_name": "Python 3",
   "language": "python",
   "name": "python3"
  },
  "language_info": {
   "codemirror_mode": {
    "name": "ipython",
    "version": 3
   },
   "file_extension": ".py",
   "mimetype": "text/x-python",
   "name": "python",
   "nbconvert_exporter": "python",
   "pygments_lexer": "ipython3",
   "version": "3.8.0"
  },
  "widgets": {
   "application/vnd.jupyter.widget-state+json": {
    "state": {},
    "version_major": 2,
    "version_minor": 0
   }
  }
 },
 "nbformat": 4,
 "nbformat_minor": 4
}
