{
 "cells": [
  {
   "cell_type": "markdown",
   "metadata": {},
   "source": [
    "# Modelo simplificado de un enlace químico\n",
    "Hasta ahora hemos explorado el efecto que diferentes potenciales tienen \n",
    "sobre las funciones de onda y los niveles de energía asociados. Para concluir, \n",
    "vamos a utilizar lo que hemos aprendido en el caso del pozo de potencial para\n",
    "hacer un modelo minimalista de un enlace químico. En este modelo, combinamos \n",
    "dos pozos definidos en nuestra coordenada y resolvemos numéricamente la ecuación\n",
    "de Schrödinger. "
   ]
  },
  {
   "cell_type": "code",
   "execution_count": null,
   "metadata": {},
   "outputs": [],
   "source": [
    "import numpy as np\n",
    "import scipy.linalg as spla\n",
    "import matplotlib as mpl\n",
    "import matplotlib.pyplot as plt"
   ]
  },
  {
   "cell_type": "code",
   "execution_count": null,
   "metadata": {},
   "outputs": [],
   "source": [
    "# atomic units\n",
    "hbar = 1.0\n",
    "m = 1.0\n",
    "# set precision of numerical approximation\n",
    "steps = 2000"
   ]
  },
  {
   "cell_type": "markdown",
   "metadata": {},
   "source": [
    "A continuación definimos la profundidad de nuestro pozo de potenciail y los límites en el eje $x$ para nuestro cálculo."
   ]
  },
  {
   "cell_type": "code",
   "execution_count": null,
   "metadata": {},
   "outputs": [],
   "source": [
    "D = 100.0\n",
    "A = 2.0\n",
    "W = A/2\n",
    "\n",
    "# create x-vector from -A to A\n",
    "xvec = np.linspace(-A, A, steps)\n",
    "# get step size\n",
    "h = xvec[1] - xvec[0]"
   ]
  },
  {
   "cell_type": "markdown",
   "metadata": {},
   "source": []
  },
  {
   "cell_type": "code",
   "execution_count": null,
   "metadata": {},
   "outputs": [],
   "source": [
    "def well_potential(W, x, x0, D):\n",
    "    pot = -D*(np.sign(x - x0 +W) - np.sign(x - x0 -W))\n",
    "    return pot\n",
    "\n",
    "\n",
    "U = well_potential(W, xvec, 1, D) + well_potential(W, xvec, -1, D)"
   ]
  },
  {
   "cell_type": "markdown",
   "metadata": {},
   "source": []
  },
  {
   "cell_type": "markdown",
   "metadata": {},
   "source": [
    "A continuación calculamos una representación matricial de la Laplaciana usando el método de las diferencias finitas:"
   ]
  },
  {
   "cell_type": "code",
   "execution_count": null,
   "metadata": {},
   "outputs": [],
   "source": [
    "# create Laplacian via 3 point finite-difference method\n",
    "Laplacian = (-2.0*np.diag(np.ones(steps)) + \\\n",
    "             np.diag(np.ones(steps-1),1) + \\\n",
    "             np.diag(np.ones(steps-1),-1))/(float)(h**2)"
   ]
  },
  {
   "cell_type": "code",
   "execution_count": null,
   "metadata": {},
   "outputs": [],
   "source": [
    "# create the Hamiltonian\n",
    "Hamiltonian = np.zeros((steps,steps))\n",
    "[i,j] = np.indices(Hamiltonian.shape)\n",
    "Hamiltonian[i==j] = U\n",
    "Hamiltonian += (-0.5)*((hbar**2)/m)*Laplacian"
   ]
  },
  {
   "cell_type": "markdown",
   "metadata": {},
   "source": [
    "Para obtener las funciones propias (eigenvectors) y las energías (eigenvalues) usamos una función eigh de Scipy."
   ]
  },
  {
   "cell_type": "code",
   "execution_count": null,
   "metadata": {},
   "outputs": [],
   "source": [
    "def diagonalize_hamiltonian(Hamiltonian):\n",
    "    return spla.eigh(Hamiltonian)"
   ]
  },
  {
   "cell_type": "code",
   "execution_count": null,
   "metadata": {},
   "outputs": [],
   "source": [
    "evals, evecs= diagonalize_hamiltonian(Hamiltonian)"
   ]
  },
  {
   "cell_type": "code",
   "execution_count": null,
   "metadata": {},
   "outputs": [],
   "source": [
    "print (\" lowest bound state energies:\")\n",
    "for i in range(6):\n",
    "    print ('E(%g) = %.2f'%(i+1,evals[i]))"
   ]
  },
  {
   "cell_type": "code",
   "execution_count": null,
   "metadata": {},
   "outputs": [],
   "source": [
    "fig, ax = plt.subplots(figsize=(6,8))\n",
    "for i, v in enumerate(evecs.transpose()[:6]):\n",
    "    #V_new, ScaleFactor = infinite_well_plot_scaling(evals, evecs, xvec, W)\n",
    "    color = mpl.cm.jet_r((i)/(float)(6-1),1)\n",
    "    ax.plot(xvec, 100*v + evals[i], c=color)\n",
    "    ax.axhline(evals[i], c=color, ls='--')\n",
    "ax.plot(xvec, U, c='gray', lw=5)\n",
    "ax.set_xlim(xvec[0], xvec[-1])\n",
    "#x.set_ylim(-evals[0], evals[6])\n",
    "ax.set_xlabel('L', fontsize=14)\n",
    "# set y label\n",
    "ax.set_ylabel('Energy / (a.u.)', fontsize=14)"
   ]
  }
 ],
 "metadata": {
  "language_info": {
   "name": "python"
  }
 },
 "nbformat": 4,
 "nbformat_minor": 2
}
