{
 "cells": [
  {
   "cell_type": "markdown",
   "id": "8a12a089",
   "metadata": {},
   "source": [
    "# Introducción a la programación en Python \n",
    "En la primera parte de estas prácticas usaremos el lenguaje de programación\n",
    "[Python](https://www.python.org/). Para ello, nos valdremos de un entorno muy sencillo, los *Python\n",
    "Notebooks*, que nos permiten programar en línea en entornos colaborativos\n",
    "como [Google Colab](https://colab.research.google.com/). Pero antes de centrarnos\n",
    "en ellos, debemos introducir acaso brevemente el entorno de trabajo del \n",
    "sistema operativo Linux, en el que debemos de ser capaces de manejarnos con \n",
    "comodidad. \n",
    "\n",
    "## Trabajando con el sistema operativo Linux\n",
    "```{image} https://upload.wikimedia.org/wikipedia/commons/6/69/Linus_Torvalds.jpeg\n",
    ":alt: linus\n",
    ":class: bg-primary mb-1\n",
    ":width: 220px\n",
    ":align: left\n",
    "```\n",
    "\n",
    "```{image} https://upload.wikimedia.org/wikipedia/commons/3/35/Tux.svg\n",
    ":alt: tux\n",
    ":width: 220px\n",
    ":align: right\n",
    "```\n",
    "Linux es el sistema operativo que usan el 94% de los supercomputadores\n",
    " del mundo, la mayor parte de los servidores de internet, la mayor parte del \n",
    " comercio financiero y un billón de aparatos que usan Android.\n",
    "Este sistema operativo fue creado por \n",
    "[Linus Torvalds](https://en.wikipedia.org/wiki/Linus_Torvalds), un estudiante\n",
    " de Helsinki.\n",
    "En 1991, Torvalds arranca un proyecto que consisten en escribir el núcleo \n",
    "(*kernel*) de un sistema operativo. Llama al producto \n",
    "[Linux kernel](https://en.wikipedia.org/wiki/Linux_kernel). \n",
    "En 1992, [GNU](https://en.wikipedia.org/wiki/GNU_Project), un proyecto de la\n",
    " Fundación para el Software Libre, licencia Linux usando la licencia pública \n",
    " general (GPL), que facilita la formación en todo el mundo de una comunidad \n",
    " de desarrolladores. A mediados de los 90 diferentes desarrolladores crean\n",
    "  “distribuciones” de Linux. \n",
    "  Linux toma mucho prestado del sistema operativo Unix, pero se concibió como OS \n",
    "de código abierto y gratuito.\n",
    "\n",
    "## La terminal\n",
    "Para usar el lenguaje de programación Python, tenemos una serie de opciones.\n",
    "Una de ellas es usar la **línea de comandos** en una **terminal** de **Linux**.\n",
    "La terminal es un programa que nos permite interactuar con nuestro ordenador, y\n",
    "su aspecto es similar al de la figura que mostramos a continuación.\n",
    "\n",
    "![terminal](https://upload.wikimedia.org/wikipedia/commons/2/29/Linux_command-line._Bash._GNOME_Terminal._screenshot.png)\n",
    "\n",
    "Hay varios tipos de “shell”, pero nosotros nos centraremos en la más habitual, \n",
    "llamada Bash o [Bourne Again Shell](https://en.wikipedia.org/wiki/Bash_(Unix_shell)).\n",
    "Es importante conocer unos cuantos comandos de para navegar por nuestro sistema\n",
    "operativo, listar el contenido de un directorio o copiar o eliminar archivos.\n",
    "A continuación mostramos algunos de ellos:\n",
    "* Comandos de Navegación y Exploración del Sistema:\n",
    "    - `pwd`: Muestra el directorio actual (Print Working Directory).\n",
    "    - `ls`: Lista los archivos y directorios del directorio actual.\n",
    "    - `ls -l`: Lista con detalles adicionales (permisos, propietario, tamaño, etc.).\n",
    "    - `cd [directorio]`: Cambia al directorio especificado.\n",
    "    - `cd ..`: Sube un nivel en el árbol de directorios.\n",
    "* Gestión de Archivos y Directorios\n",
    "\t- `touch [archivo]`: Crea un archivo vacío.\n",
    "\t- `mkdir [directorio]`: Crea un nuevo directorio.\n",
    "\t- `cp [origen] [destino]`: Copia archivos o directorios.\n",
    "\t- `mv [origen] [destino]`: Mueve o renombra archivos o directorios.\n",
    "\t- `rm [archivo]`: Elimina un archivo.\n",
    "\t- `rm -r [directorio]`: Elimina un directorio recursivamente.\n",
    "\t- `locate [archivo]`: Busca un archivo en el sistema.\n",
    "* Visualización y Edición de Archivos\n",
    "\t-  `cat [archivo]`: Muestra el contenido de un archivo.\n",
    "\t-  `more [archivo]`: Permite visualizar un archivo de forma paginada.\n",
    "\t-  `head -n [número] [archivo]`: Muestra las primeras n líneas.\n",
    "\t-  `tail [archivo]`: Muestra las últimas líneas de un archivo.\n",
    "\t-  `nano [archivo]`: Abre un editor de texto sencillo.\n",
    "\t-  `vim [archivo]`: Abre un editor de texto avanzado.\n",
    "\n",
    "Todos estos comandos son extremadamente útiles para que nos podamos mover\n",
    "en nuestro **filesystem**, un árbol de directorios y archivos con un aspecto\n",
    "como el del diagrama que mostramos a continuación, \n",
    "\n",
    "```{image} https://raw.githubusercontent.com/swcarpentry/shell-novice/refs/heads/main/episodes/fig/filesystem.svg\n",
    ":alt: filesystem \n",
    ":width: 400px\n",
    ":align: center \n",
    "```\n",
    "\n",
    "## Python como calculadora\n",
    "[Python](https://www.python.org/) es tanto un lenguaje de programación como un\n",
    " lenguaje de *scripting*. Al contrario de muchos otros lenguajes de programación,\n",
    "  para ejecutar una\n",
    "serie de directivas, tan sólo tenemos que escribirlas en un intérprete de Python.\n",
    "Por ejemplo podemos usar Python para remplazar nuestra calculadora"
   ]
  },
  {
   "cell_type": "code",
   "execution_count": 1,
   "id": "4dbddc3a",
   "metadata": {},
   "outputs": [
    {
     "data": {
      "text/plain": [
       "23"
      ]
     },
     "execution_count": 1,
     "metadata": {},
     "output_type": "execute_result"
    }
   ],
   "source": [
    "3 + 5 * 4"
   ]
  },
  {
   "cell_type": "markdown",
   "id": "78af80a1",
   "metadata": {},
   "source": [
    "## Corriendo programas en Python\n",
    "Para ejecutar código en Python, disponemos de múltiples \n",
    "opciones. En primer lugar, podemos escribir un programa\n",
    "en un editor de texto y ejecutarlo desde la terminal. \n",
    "Este programa (llamado `hola_mundo.py`) podría ser tan`sencillo como el siguiente:\n",
    "```python\n",
    "#!/usr/bin/env python\n",
    "# Our first Python program\n",
    "print (\"¡Hola mundo!\")\n",
    "```\n",
    "En nuestra terminal, luego tendríamos que escribir lo siguiente:\n",
    "```bash\n",
    "foo@bar:~$ python hola_mundo.py\n",
    "```\n",
    "También podemos correr el programa en una terminal de\n",
    "Python, tecleando `python` o `ipython` en nuestra\n",
    "terminal.\n",
    "```shell\n",
    "foo@bar:~$ python\n",
    "Python 3.9.16 | packaged by conda-forge | (main, Feb  1 2023, 21:42:20)\n",
    "[Clang 14.0.6 ] on darwin\n",
    "Type \"help\", \"copyright\", \"credits\" or \"license\" for more information.\n",
    ">>>\n",
    "```\n",
    "Finalmente, podríamos usar, como haremos en estas \n",
    "prácticas, un *Jupyter Notebook*. Los notebooks son \n",
    "interfaces gráficas a IPython que permiten combinar\n",
    "celdas de código y de texto.\n",
    "\n",
    "![jupyter](https://jupyter-notebook.readthedocs.io/en/latest/_images/notebook-running-code.png)\n",
    "\n",
    "Python es un lenguaje de programación enormemente potente, con el que\n",
    "podemos escribir programas de ordenador, hacer análisis de datos interactivo,\n",
    "construir páginas web o controlar nuestro sistema operativo. \n",
    "Dado su gran potencial y su énfasis en que el código sea legible, Python \n",
    "es ideal para introducirse en el mundo de la programación.\n",
    "\n",
    "![python-flying](https://imgs.xkcd.com/comics/python.png)"
   ]
  }
 ],
 "metadata": {
  "jupytext": {
   "text_representation": {
    "extension": ".md",
    "format_name": "myst"
   }
  },
  "kernelspec": {
   "display_name": "Python 3",
   "language": "python",
   "name": "python3"
  },
  "language_info": {
   "codemirror_mode": {
    "name": "ipython",
    "version": 3
   },
   "file_extension": ".py",
   "mimetype": "text/x-python",
   "name": "python",
   "nbconvert_exporter": "python",
   "pygments_lexer": "ipython3",
   "version": "3.8.20"
  },
  "source_map": [
   10,
   101,
   103
  ]
 },
 "nbformat": 4,
 "nbformat_minor": 5
}