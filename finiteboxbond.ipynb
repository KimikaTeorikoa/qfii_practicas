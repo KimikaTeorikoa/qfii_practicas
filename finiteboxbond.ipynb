{
 "cells": [
  {
   "cell_type": "markdown",
   "metadata": {},
   "source": [
    "# Aplicaciones a problemas más complejos\n",
    "Una vez hemos usado el método de las diferencias finitas a un problema sencillo como es la partícula en una caja, podemos abordar problemas más complejos.\n",
    "\n",
    "## Pozo de potencial\n",
    "Nuestra segunda práctica se va a centrar en otro de los sistemas modelo   que podemos resolver analíticamente, el pozo potencial. En este sistema la partícula objeto de estudio se encuentra sometida a un potencial $V(x)=-D$ si y sólo si $-A<x<A$. Empezamos como en el caso anterior con una serie de definiciones."
   ]
  },
  {
   "cell_type": "code",
   "execution_count": null,
   "metadata": {},
   "outputs": [],
   "source": [
    "import numpy as np\n",
    "import scipy.linalg as spla\n",
    "import matplotlib as mpl\n",
    "import matplotlib.pyplot as plt"
   ]
  },
  {
   "cell_type": "code",
   "execution_count": null,
   "metadata": {},
   "outputs": [],
   "source": [
    "# atomic units\n",
    "hbar = 1.0\n",
    "m = 1.0\n",
    "# set precision of numerical approximation\n",
    "steps = 2000"
   ]
  },
  {
   "cell_type": "markdown",
   "metadata": {},
   "source": [
    "A continuación definimos la profundidad de nuestro pozo de potenciail y los límites en el eje $x$ para nuestro cálculo."
   ]
  },
  {
   "cell_type": "code",
   "execution_count": null,
   "metadata": {},
   "outputs": [],
   "source": [
    "D = 100.0\n",
    "A = 1.0\n",
    "W = A/2\n",
    "\n",
    "# create x-vector from -A to A\n",
    "xvec = np.linspace(-A, A, steps)\n",
    "# get step size\n",
    "h = xvec[1] - xvec[0]"
   ]
  },
  {
   "cell_type": "markdown",
   "metadata": {},
   "source": []
  },
  {
   "cell_type": "markdown",
   "metadata": {},
   "source": [
    "En el pozo potencial, dado que $V$ es distinto de cero, el hamiltoniano tiene términos tanto de energía cinética como de energía potencial,\n",
    "\n",
    "\\begin{equation}\n",
    "\\hat{H} = -\\frac{\\hbar^2}{2m} \\nabla^2 + V(x) ,\n",
    "\\hspace{0.5cm}\n",
    "V(x)=\n",
    "\\begin{Bmatrix} \n",
    "-D & si\\hspace{0.5cm}-A<x<A \\\\\n",
    "0 & \\textrm{en cualquier otro caso}\n",
    "\\end{Bmatrix}\n",
    "\\end{equation}\n",
    "\n",
    "En primer lugar calculamos el potencial"
   ]
  },
  {
   "cell_type": "code",
   "execution_count": null,
   "metadata": {},
   "outputs": [],
   "source": [
    "def well_potential(W, x, D):\n",
    "    pot = -D*(np.sign(x+W) - np.sign(x-W))\n",
    "    return pot\n",
    "\n",
    "U = well_potential(W, xvec, D)"
   ]
  },
  {
   "cell_type": "markdown",
   "metadata": {},
   "source": []
  },
  {
   "cell_type": "markdown",
   "metadata": {},
   "source": [
    "A continuación calculamos una representación matricial de la Laplaciana usando el método de las diferencias finitas:"
   ]
  },
  {
   "cell_type": "code",
   "execution_count": null,
   "metadata": {},
   "outputs": [],
   "source": [
    "# create Laplacian via 3 point finite-difference method\n",
    "Laplacian = (-2.0*np.diag(np.ones(steps)) + \\\n",
    "             np.diag(np.ones(steps-1),1) + \\\n",
    "             np.diag(np.ones(steps-1),-1))/(float)(h**2)"
   ]
  },
  {
   "cell_type": "code",
   "execution_count": null,
   "metadata": {},
   "outputs": [],
   "source": [
    "# create the Hamiltonian\n",
    "Hamiltonian = np.zeros((steps,steps))\n",
    "[i,j] = np.indices(Hamiltonian.shape)\n",
    "Hamiltonian[i==j] = U\n",
    "Hamiltonian += (-0.5)*((hbar**2)/m)*Laplacian"
   ]
  },
  {
   "cell_type": "markdown",
   "metadata": {},
   "source": [
    "Para obtener las funciones propias (eigenvectors) y las energías (eigenvalues) usamos una función eigh de Scipy."
   ]
  },
  {
   "cell_type": "code",
   "execution_count": null,
   "metadata": {},
   "outputs": [],
   "source": [
    "def diagonalize_hamiltonian(Hamiltonian):\n",
    "    return spla.eigh(Hamiltonian)"
   ]
  },
  {
   "cell_type": "code",
   "execution_count": null,
   "metadata": {},
   "outputs": [],
   "source": [
    "evals, evecs= diagonalize_hamiltonian(Hamiltonian)"
   ]
  },
  {
   "cell_type": "code",
   "execution_count": null,
   "metadata": {},
   "outputs": [],
   "source": [
    "print (\" lowest bound state energies:\")\n",
    "for i in range(6):\n",
    "    print ('E(%g) = %.2f'%(i+1,evals[i]))"
   ]
  },
  {
   "cell_type": "code",
   "execution_count": null,
   "metadata": {},
   "outputs": [],
   "source": [
    "fig, ax = plt.subplots(figsize=(6,8))\n",
    "for i, v in enumerate(evecs.transpose()[:6]):\n",
    "    #V_new, ScaleFactor = infinite_well_plot_scaling(evals, evecs, xvec, W)\n",
    "    color = mpl.cm.jet_r((i)/(float)(6-1),1)\n",
    "    ax.plot(xvec, 100*v + evals[i], c=color)\n",
    "    ax.axhline(evals[i], c=color, ls='--')\n",
    "ax.plot(xvec, U, c='gray', lw=5)\n",
    "ax.set_xlim(xvec[0], xvec[-1])\n",
    "#x.set_ylim(-evals[0], evals[6])\n",
    "ax.set_xlabel('L', fontsize=14)\n",
    "# set y label\n",
    "ax.set_ylabel('Energy / (a.u.)', fontsize=14)"
   ]
  },
  {
   "cell_type": "markdown",
   "metadata": {},
   "source": [
    "## Oscilador armónico\n",
    "El siguiente sistema modelo con el que vamos a trabajar es el oscilador armónico. En este sistema la partícula objeto de estudio se encuentra sometida a un potencial \n",
    "$$\n",
    "V=1/2kx^2\n",
    "$$\n",
    "Partimos una vez más definiendo una serie de constantes"
   ]
  },
  {
   "cell_type": "code",
   "execution_count": null,
   "metadata": {},
   "outputs": [],
   "source": [
    "# atomic units\n",
    "hbar = 1.0\n",
    "m = 1.0\n",
    "# set precision of numerical approximation\n",
    "steps = 2000"
   ]
  },
  {
   "cell_type": "markdown",
   "metadata": {},
   "source": [
    "A continuación definimos la constante de muelle de nuestro oscilador armómico y los límites en el eje "
   ]
  },
  {
   "cell_type": "code",
   "execution_count": null,
   "metadata": {},
   "outputs": [],
   "source": [
    "spring = 1\n",
    "W = 5\n",
    "A = W*2.0\n",
    "\n",
    "# create x-vector from -A to A\n",
    "xvec = np.linspace(-A, A, steps)\n",
    "# get step size\n",
    "h = xvec[1] - xvec[0]"
   ]
  },
  {
   "cell_type": "markdown",
   "metadata": {},
   "source": [
    "Ahora podemos construir el potencial y sumárselo a la Laplaciana"
   ]
  },
  {
   "cell_type": "code",
   "execution_count": null,
   "metadata": {},
   "outputs": [],
   "source": [
    "def harmonic_potential(x, spring):\n",
    "    pot = 0.5*(spring**2)*x**2\n",
    "    return pot\n",
    "\n",
    "U = harmonic_potential(xvec, spring)"
   ]
  },
  {
   "cell_type": "code",
   "execution_count": null,
   "metadata": {},
   "outputs": [],
   "source": [
    "# create Laplacian via 3 point finite-difference method\n",
    "Laplacian = (-2.0*np.diag(np.ones(steps)) + \\\n",
    "             np.diag(np.ones(steps-1),1) + \\\n",
    "             np.diag(np.ones(steps-1),-1))/(float)(h**2)"
   ]
  },
  {
   "cell_type": "code",
   "execution_count": null,
   "metadata": {},
   "outputs": [],
   "source": [
    "# create the Hamiltonian\n",
    "Hamiltonian = np.zeros((steps,steps))\n",
    "[i,j] = np.indices(Hamiltonian.shape)\n",
    "Hamiltonian[i==j] = U\n",
    "Hamiltonian += (-0.5)*((hbar**2)/m)*Laplacian"
   ]
  },
  {
   "cell_type": "markdown",
   "metadata": {},
   "source": [
    "De nuevo recurrimos a Scipy para calcular valores y vectores propios"
   ]
  },
  {
   "cell_type": "code",
   "execution_count": null,
   "metadata": {},
   "outputs": [],
   "source": [
    "def diagonalize_hamiltonian(Hamiltonian):\n",
    "    return spla.eigh(Hamiltonian)\n",
    "\n",
    "evals, evecs = diagonalize_hamiltonian(Hamiltonian)\n"
   ]
  },
  {
   "cell_type": "code",
   "execution_count": null,
   "metadata": {},
   "outputs": [],
   "source": [
    "print (\" lowest bound state energies:\")\n",
    "for i in range(6):\n",
    "    print ('E(%g) = %.2f'%(i+1,E[i]))"
   ]
  },
  {
   "cell_type": "code",
   "execution_count": null,
   "metadata": {},
   "outputs": [],
   "source": [
    "fig, ax = plt.subplots(figsize=(6,8))\n",
    "for i, v in enumerate(V.transpose()[:6]):\n",
    "    #V_new, ScaleFactor = infinite_well_plot_scaling(E,V,xvec,W)\n",
    "    color=mpl.cm.jet_r((i)/(float)(6-1),1)\n",
    "    ax.plot(xvec, 3*v + E[i], c=color)\n",
    "    ax.axhline(E[i], c=color, ls='--')\n",
    "ax.plot(xvec, U, c='gray', lw=2)\n",
    "ax.set_xlim(xvec[0], xvec[-1])\n",
    "ax.set_ylim(-E[0], E[6])\n",
    "ax.set_xlabel('L', fontsize=14)\n",
    "# set y label\n",
    "ax.set_ylabel('Energy / (a.u.)', fontsize=14)"
   ]
  }
 ],
 "metadata": {
  "language_info": {
   "name": "python"
  }
 },
 "nbformat": 4,
 "nbformat_minor": 2
}
